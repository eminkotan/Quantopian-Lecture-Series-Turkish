{
 "cells": [
  {
   "metadata": {},
   "cell_type": "markdown",
   "source": [
    "# Numpy'a Giriş\n",
    "numpy kütüphanesi, çok boyutlu diziler ve matrisler üzerinde yüksek performanslı çalışma imkanı sağlayan bir Python kütüphanesidir. Bu kütüphane, matematiksel işlemler yaparken kullanılan fonksiyonları ve metodları içerir."
   ],
   "id": "b3c174cc8cee85db"
  },
  {
   "metadata": {
    "ExecuteTime": {
     "end_time": "2025-01-30T13:43:07.698447Z",
     "start_time": "2025-01-30T13:43:07.695704Z"
    }
   },
   "cell_type": "code",
   "source": [
    "import numpy as np\n",
    "import matplotlib.pyplot as plt"
   ],
   "id": "4e943bead4436310",
   "outputs": [],
   "execution_count": 27
  },
  {
   "metadata": {},
   "cell_type": "markdown",
   "source": [
    "## Basit bir Numpy Dizisi Oluşturma\n",
    "\n",
    "Finans içinde numpy kullanmanın en kolay yolu bir portfoliyo getirisini hesaplamaktır. Örneğin, bir portföydeki hisse senetlerinin getirilerini hesaplamak için numpy kullanabiliriz. Aşağıda, 5 günlük hisse senedi getirilerini içeren bir numpy dizisi oluşturuyoruz."
   ],
   "id": "b704da76f8c4c918"
  },
  {
   "metadata": {
    "ExecuteTime": {
     "end_time": "2025-01-30T13:43:07.714475Z",
     "start_time": "2025-01-30T13:43:07.712165Z"
    }
   },
   "cell_type": "code",
   "source": "stock_list = [3.5, 4.2, 5.0, 4.8, 3.9]",
   "id": "1f44c9afffe450ce",
   "outputs": [],
   "execution_count": 28
  },
  {
   "metadata": {},
   "cell_type": "markdown",
   "source": "np.array fonksiyonu ile bu listeyi bir numpy dizisine dönüştürebiliriz.",
   "id": "1d41b306b363af15"
  },
  {
   "metadata": {
    "ExecuteTime": {
     "end_time": "2025-01-30T13:43:07.740370Z",
     "start_time": "2025-01-30T13:43:07.737285Z"
    }
   },
   "cell_type": "code",
   "source": [
    "returns = np.array(stock_list)\n",
    "print(returns), type(returns)"
   ],
   "id": "51115b06c555623a",
   "outputs": [
    {
     "name": "stdout",
     "output_type": "stream",
     "text": [
      "[3.5 4.2 5.  4.8 3.9]\n"
     ]
    },
    {
     "data": {
      "text/plain": [
       "(None, numpy.ndarray)"
      ]
     },
     "execution_count": 29,
     "metadata": {},
     "output_type": "execute_result"
    }
   ],
   "execution_count": 29
  },
  {
   "metadata": {},
   "cell_type": "markdown",
   "source": "\"returns\" adlı numpy dizisini oluşturduk. Bu dizinin tipi \"numpy.ndarray\" dir. Eğer np.array fonksiyonu ile bir liste içinde listeler oluşturursak, iki boyutlu bir numpy dizisi oluşturmuş oluruz. Liste içerisindeki listenin içerisine liste eklersek 3 boyutlu bir numpy dizisi oluşturmuş oluruz.",
   "id": "c827b0a3ee097629"
  },
  {
   "metadata": {
    "ExecuteTime": {
     "end_time": "2025-01-30T13:43:07.757674Z",
     "start_time": "2025-01-30T13:43:07.753904Z"
    }
   },
   "cell_type": "code",
   "source": [
    "returns_2d = np.array([[3.5, 4.2, 5.0, 4.8, 3.9], [2.5, 3.2, 4.0, 3.8, 2.9]])\n",
    "print(returns_2d), type(returns_2d)"
   ],
   "id": "c4e111de5364edaa",
   "outputs": [
    {
     "name": "stdout",
     "output_type": "stream",
     "text": [
      "[[3.5 4.2 5.  4.8 3.9]\n",
      " [2.5 3.2 4.  3.8 2.9]]\n"
     ]
    },
    {
     "data": {
      "text/plain": [
       "(None, numpy.ndarray)"
      ]
     },
     "execution_count": 30,
     "metadata": {},
     "output_type": "execute_result"
    }
   ],
   "execution_count": 30
  },
  {
   "metadata": {},
   "cell_type": "markdown",
   "source": [
    "Bir numpy dizisinin boyutunu öğrenmek için \"ndim\" fonksiyonunu kullanabiliriz.\n",
    "Dizinin şeklini öğrenmek için \"shape\" fonksiyonunu kullanabiliriz. returns dizisi tek boyutlu ve 5 nesayıdan oluştuğu için şekli (5,) şeklindedir. returns_2d dizisi ise iki boyutlu ve 2 satır, 5 sütundan oluştuğu için şekli (2, 5) şeklindedir.\n"
   ],
   "id": "a515f75b4dc9e542"
  },
  {
   "metadata": {
    "ExecuteTime": {
     "end_time": "2025-01-30T13:43:07.777337Z",
     "start_time": "2025-01-30T13:43:07.774355Z"
    }
   },
   "cell_type": "code",
   "source": [
    "print(returns.ndim), print(returns_2d.ndim)\n",
    "print(returns.shape), print(returns_2d.shape)"
   ],
   "id": "69d13821eeba12a1",
   "outputs": [
    {
     "name": "stdout",
     "output_type": "stream",
     "text": [
      "1\n",
      "2\n",
      "(5,)\n",
      "(2, 5)\n"
     ]
    },
    {
     "data": {
      "text/plain": [
       "(None, None)"
      ]
     },
     "execution_count": 31,
     "metadata": {},
     "output_type": "execute_result"
    }
   ],
   "execution_count": 31
  },
  {
   "metadata": {},
   "cell_type": "markdown",
   "source": [
    "Python'da bir dizinin boyutunu öğrenmek için \"len\" fonksiyonunu kullanabiliriz. Dizinin ilk elemanı 0 iken son elemanı ise n-1'dir.\n",
    "\n",
    "Ancak, numpy dizilerinde \"len\" fonksiyonu dizinin boyutunu değil, sadece ilk boyutunun uzunluğunu verir.\n",
    "\n"
   ],
   "id": "232b76ae522e0037"
  },
  {
   "metadata": {
    "ExecuteTime": {
     "end_time": "2025-01-30T13:43:07.803316Z",
     "start_time": "2025-01-30T13:43:07.801098Z"
    }
   },
   "cell_type": "code",
   "source": "print(returns[0], returns[len(returns)-1], returns[-1]) # returns[-1] son elemanı verir.",
   "id": "e2e3fd21e368140f",
   "outputs": [
    {
     "name": "stdout",
     "output_type": "stream",
     "text": [
      "3.5 3.9 3.9\n"
     ]
    }
   ],
   "execution_count": 32
  },
  {
   "metadata": {},
   "cell_type": "markdown",
   "source": "Kolon kullanarak diziden bir parça alabiliriz. Örneğin, returns dizisinin ilk 3 elemanını almak için aşağıdaki gibi bir işlem yapabiliriz.",
   "id": "9eed9c9b1c7e0f42"
  },
  {
   "metadata": {
    "ExecuteTime": {
     "end_time": "2025-01-30T13:43:07.833002Z",
     "start_time": "2025-01-30T13:43:07.829625Z"
    }
   },
   "cell_type": "code",
   "source": "print(returns[:3]) # indexe göre 0,1,2 elemanları alır.",
   "id": "28b01e87b0fd88d1",
   "outputs": [
    {
     "name": "stdout",
     "output_type": "stream",
     "text": [
      "[3.5 4.2 5. ]\n"
     ]
    }
   ],
   "execution_count": 33
  },
  {
   "metadata": {
    "ExecuteTime": {
     "end_time": "2025-01-30T13:43:07.855551Z",
     "start_time": "2025-01-30T13:43:07.850306Z"
    }
   },
   "cell_type": "code",
   "source": [
    "print(returns_2d)\n",
    "print(\"------------\")\n",
    "print(returns_2d[1, :]) # 1. satırın tüm sütunlarını alır. satır,sütun y, x gibi düşünülebilir.\n",
    "print(returns_2d[:, 0]) # 1. sütunun tüm satırlarını alır. satır,sütun\n",
    "print(returns_2d[1, 1]) # 1. satırın 1. sütununu alır.\n",
    "print(returns_2d[0])"
   ],
   "id": "10e91fb021d720a4",
   "outputs": [
    {
     "name": "stdout",
     "output_type": "stream",
     "text": [
      "[[3.5 4.2 5.  4.8 3.9]\n",
      " [2.5 3.2 4.  3.8 2.9]]\n",
      "------------\n",
      "[2.5 3.2 4.  3.8 2.9]\n",
      "[3.5 2.5]\n",
      "3.2\n",
      "[3.5 4.2 5.  4.8 3.9]\n"
     ]
    }
   ],
   "execution_count": 34
  },
  {
   "metadata": {},
   "cell_type": "markdown",
   "source": "## Numpy Dizileri ile Matematiksel İşlemler (Fonksiyonlar)",
   "id": "3d8c23e54a9f3ea3"
  },
  {
   "metadata": {
    "ExecuteTime": {
     "end_time": "2025-01-30T13:43:07.874295Z",
     "start_time": "2025-01-30T13:43:07.871438Z"
    }
   },
   "cell_type": "code",
   "source": "print(np.log(returns)) #log fonksiyonu her bir elemanın logaritmasını alır.",
   "id": "6d04d06a763a7e95",
   "outputs": [
    {
     "name": "stdout",
     "output_type": "stream",
     "text": [
      "[1.25276297 1.43508453 1.60943791 1.56861592 1.36097655]\n"
     ]
    }
   ],
   "execution_count": 35
  },
  {
   "metadata": {
    "ExecuteTime": {
     "end_time": "2025-01-30T13:43:07.892158Z",
     "start_time": "2025-01-30T13:43:07.888930Z"
    }
   },
   "cell_type": "code",
   "source": [
    "print(np.mean(returns)) #ortalama\n",
    "print(np.max(returns)) #maksimum\n",
    "print(np.min(returns)) #minimum"
   ],
   "id": "3b24e754977fd824",
   "outputs": [
    {
     "name": "stdout",
     "output_type": "stream",
     "text": [
      "4.279999999999999\n",
      "5.0\n",
      "3.5\n"
     ]
    }
   ],
   "execution_count": 36
  },
  {
   "metadata": {},
   "cell_type": "markdown",
   "source": [
    "## Getirileri Getirilere çevirmek\n",
    "getiriler dizimizi \"returns\" skaler değerler ile kullanalım. Eğer sakaler değerler ile işlem yapmak istersek, numpy dizisindeki her bir elemanda bu işlemler gerçekleşecektir."
   ],
   "id": "56557782e07a2563"
  },
  {
   "metadata": {
    "ExecuteTime": {
     "end_time": "2025-01-30T13:43:07.910713Z",
     "start_time": "2025-01-30T13:43:07.906983Z"
    }
   },
   "cell_type": "code",
   "source": [
    "print(returns)\n",
    "returns*2 + 5 #her bir elemanı 2 ile çarpar ve 5 ekler."
   ],
   "id": "675c5dc52088c54a",
   "outputs": [
    {
     "name": "stdout",
     "output_type": "stream",
     "text": [
      "[3.5 4.2 5.  4.8 3.9]\n"
     ]
    },
    {
     "data": {
      "text/plain": [
       "array([12. , 13.4, 15. , 14.6, 12.8])"
      ]
     },
     "execution_count": 37,
     "metadata": {},
     "output_type": "execute_result"
    }
   ],
   "execution_count": 37
  },
  {
   "metadata": {},
   "cell_type": "markdown",
   "source": "Numpy'ın içerisinde ayrıca matrisler üzerinde işlem yapmamızı sağlayan fonksiyonlar da bulunmaktadır.",
   "id": "612031a18e31e6a7"
  },
  {
   "metadata": {
    "ExecuteTime": {
     "end_time": "2025-01-30T13:43:07.925224Z",
     "start_time": "2025-01-30T13:43:07.922890Z"
    }
   },
   "cell_type": "code",
   "source": "print(\"Mean: \", np.mean(returns), \"Std Dev: \", np.std(returns))",
   "id": "a2b0c4cbb2795ebd",
   "outputs": [
    {
     "name": "stdout",
     "output_type": "stream",
     "text": [
      "Mean:  4.279999999999999 Std Dev:  0.5564171097297422\n"
     ]
    }
   ],
   "execution_count": 38
  },
  {
   "metadata": {},
   "cell_type": "markdown",
   "source": "Bir dizi oluşturalım ve bu diziler varlıkları ve getirileri temsil etsin. Sabit bir boyutta olacağı için yeni bir dizi oluşturulamayacağı sürece boyut değişmez.",
   "id": "5868bbff480a0187"
  },
  {
   "metadata": {
    "ExecuteTime": {
     "end_time": "2025-01-30T13:43:07.937048Z",
     "start_time": "2025-01-30T13:43:07.935211Z"
    }
   },
   "cell_type": "code",
   "source": [
    "n = 10\n",
    "assets = np.zeros((n, 100)) # 10 satır ve 100 sütun\n",
    "returns = np.zeros((n, 100)) # 10 satır ve 100 sütun"
   ],
   "id": "67ed63f5c364cf46",
   "outputs": [],
   "execution_count": 39
  },
  {
   "metadata": {},
   "cell_type": "markdown",
   "source": "Bu fonksiyon ile 10 satır ve 100 sütunluk bir matris oluşturduk. Bu matrisin her bir elemanı 0'dır. Oluşturduğumuz dizi $$N x 100$$ şeklinde bir matris oluşturduk. Bu matrisin her bir satırı bir varlığı temsil ederken, her bir sütunu bir günü temsil eder. Bu matrisin her bir elemanı bir varlığın bir gün içerisindeki getirisini temsil eder.",
   "id": "9b09272ae9e7fb0a"
  },
  {
   "metadata": {
    "ExecuteTime": {
     "end_time": "2025-01-30T13:43:07.948200Z",
     "start_time": "2025-01-30T13:43:07.946255Z"
    }
   },
   "cell_type": "code",
   "source": [
    "R_1 = np.random.normal(1.01, 0.003, 100) #ortalama 1.01 ve standart sapması 0.003 olan 100 elemanlı bir dizi oluşturduk.\n",
    "returns[0] = R_1\n",
    "assets[0] = np.cumprod(R_1) #kümülatif çarpım"
   ],
   "id": "f80b1f59367ff6b8",
   "outputs": [],
   "execution_count": 40
  },
  {
   "metadata": {},
   "cell_type": "markdown",
   "source": "Bu fonksiyon ile 100 elemanlı bir dizi oluşturduk. Bu dizinin ortalaması 1.01 ve standart sapması 0.003'tür. Bu diziyi returns dizisinin ilk satırına atadık. Daha sonra, bu dizinin kümülatif çarpımını alarak, assets dizisinin ilk satırına atadık.",
   "id": "5d133e670f79e69a"
  },
  {
   "metadata": {
    "ExecuteTime": {
     "end_time": "2025-01-30T13:43:07.959064Z",
     "start_time": "2025-01-30T13:43:07.956141Z"
    }
   },
   "cell_type": "code",
   "source": [
    "for i in range(1, n): # 1'den n'e kadar\n",
    "    R_i = R_1 + np.random.normal(0.001, 0.02, 100)\n",
    "\n",
    "    returns[i] = R_i\n",
    "    assets[i] = np.cumprod(R_i)\n",
    "# 1'den n kadar olan sayıları döngüye sokar. Ardından her bir elemanı R_1'e ekler ve 0.001, 0.02 standart sapması olan bir dizi oluşturur. Bu diziyi returns dizisinin i. satırına atar. Daha sonra, bu dizinin kümülatif çarpımını alarak, assets dizisinin i. satırına atar.\n",
    "means_returns = [(np.mean(R)-1)*100 for R in returns] #getirilerin ortalamasını alır ve 100 ile çarpar.\n",
    "std_returns = [np.std(R) for R in returns] #getirilerin standart sapmasını alır."
   ],
   "id": "eb49d90c8b95cc01",
   "outputs": [],
   "execution_count": 41
  },
  {
   "metadata": {
    "ExecuteTime": {
     "end_time": "2025-01-30T13:43:08.049043Z",
     "start_time": "2025-01-30T13:43:07.975611Z"
    }
   },
   "cell_type": "code",
   "source": [
    "plt.bar(np.arange(len(means_returns)),means_returns) # çubuk grafik, x ekseninde varlıklar, y ekseninde getiriler.\n",
    "plt.xlabel(\"Assets\")\n",
    "plt.ylabel(\"Returns\")\n",
    "plt.title(\"Returns of the assets\")"
   ],
   "id": "3178c7b6d0604dfb",
   "outputs": [
    {
     "data": {
      "text/plain": [
       "Text(0.5, 1.0, 'Returns of the assets')"
      ]
     },
     "execution_count": 42,
     "metadata": {},
     "output_type": "execute_result"
    },
    {
     "data": {
      "text/plain": [
       "<Figure size 640x480 with 1 Axes>"
      ],
      "image/png": "[encoded data removed]"
     },
     "metadata": {},
     "output_type": "display_data"
    }
   ],
   "execution_count": 42
  },
  {
   "metadata": {},
   "cell_type": "markdown",
   "source": [
    "## Beklenen Getşrş Hesaplama\n",
    "Portfolyomuzun getiri ve risk oranını hesaplayalım.\n",
    "\n",
    "N rastgele değişkenlerin beklenen getirisi, $$E[R] = \\sum_{i=1}^{n} w_i R_i$$ şeklinde hesaplanır. Burada, $$w_i$$ portfolyodaki i. varlığın ağırlığını, $$R_i$$ ise i. varlığın getirisini temsil eder."
   ],
   "id": "b2d6eccd25aa54cc"
  },
  {
   "metadata": {
    "ExecuteTime": {
     "end_time": "2025-01-30T13:43:08.055134Z",
     "start_time": "2025-01-30T13:43:08.052305Z"
    }
   },
   "cell_type": "code",
   "source": [
    "weights = np.random.uniform(0, 1, n) # 0 ile 1 arasında rastgele sayılar oluşturur.\n",
    "weights = weights/np.sum(weights) # ağırlıkları normalize eder. Ağırlık toplamda %100 olmalıdır."
   ],
   "id": "aecdc41edb671f54",
   "outputs": [],
   "execution_count": 43
  },
  {
   "metadata": {},
   "cell_type": "markdown",
   "source": [
    "Burada 0 ile 1 arasında rastgele ağırlıklar oluşturduk. Daha sonra, bu ağırlıkları normalize ederek, ağırlıkların toplamının %100 olmasını sağladık. Sağlamak için ise her bir ağırlığın toplam ağırlığa bölümünü aldık, böylece toplam ağırlık 1 olmuş oldu.\n",
    "$$E[w] = \\sum_{i=1}^{n} w_i = 1$$\n",
    "\n",
    "Şimdi, portfolyonun beklenen getirisini hesaplayalım. Fonksiyonumuz şu şekilde olacaktır: $$E[R] = \\sum_{i=1}^{n} w_i R_i$$\n",
    "ayrı ayrı çarpmak zor ve uğraştırıcı olacağından np.dot fonksiyonu ile hesaplayabiliriz. Bu fonksiyon, iki dizinin iç çarpımını alır. Bu fonksiyonu kullanarak, ağırlıklar ile getirileri çarparak, beklenen getiriyi hesaplayabiliriz."
   ],
   "id": "3201ef53a8a81ba7"
  },
  {
   "metadata": {
    "ExecuteTime": {
     "end_time": "2025-01-30T13:43:08.068509Z",
     "start_time": "2025-01-30T13:43:08.066235Z"
    }
   },
   "cell_type": "code",
   "source": [
    "p_returns = np.dot(weights, means_returns) # ağırlıklar ile getirileri çarparak, beklenen getiriyi hesaplar.\n",
    "print(\"Beklenen getiri: \", p_returns)"
   ],
   "id": "f892d644e4232f1c",
   "outputs": [
    {
     "name": "stdout",
     "output_type": "stream",
     "text": [
      "Beklenen getiri:  1.2154556414333026\n"
     ]
    }
   ],
   "execution_count": 44
  },
  {
   "metadata": {},
   "cell_type": "markdown",
   "source": [
    "## NaN Değerler\n",
    "Genellikle hesaplama yaptığımız değerleri sorunsuz bir şekilde alırız. Ancak, bazen NaN değerler ile karşılaşabiliriz. Bu değerler, \"Not a Number\" anlamına gelir ve genellikle hesaplama sırasında bir hata olduğunu gösterir. Bu değerler, matematiksel işlemlerde tanımlanmayan değerlerdir. Örneğin, 0/0 işlemi sonucunda NaN değeri elde ederiz. Bu değerler, hesaplama sırasında bir hata olduğunu gösterir ve bu değerlerle işlem yapmak genellikle hata verir."
   ],
   "id": "c4054e537d67a72a"
  },
  {
   "metadata": {
    "ExecuteTime": {
     "end_time": "2025-01-30T13:43:08.081891Z",
     "start_time": "2025-01-30T13:43:08.079762Z"
    }
   },
   "cell_type": "code",
   "source": [
    "nanArray = np.array([1, 2, np.nan, 4, 5]) # burada np.nan ile bir NaN değeri oluşturduk.\n",
    "print(nanArray)"
   ],
   "id": "7b85b1e685413c29",
   "outputs": [
    {
     "name": "stdout",
     "output_type": "stream",
     "text": [
      "[ 1.  2. nan  4.  5.]\n"
     ]
    }
   ],
   "execution_count": 45
  },
  {
   "metadata": {
    "ExecuteTime": {
     "end_time": "2025-01-30T13:43:08.097389Z",
     "start_time": "2025-01-30T13:43:08.095769Z"
    }
   },
   "cell_type": "code",
   "source": "print(np.mean(nanArray)) # NaN değerler ile işlem yapmak hata verir.",
   "id": "17b78c46bb9cc983",
   "outputs": [
    {
     "name": "stdout",
     "output_type": "stream",
     "text": [
      "nan\n"
     ]
    }
   ],
   "execution_count": 46
  },
  {
   "metadata": {
    "ExecuteTime": {
     "end_time": "2025-01-30T13:43:08.113121Z",
     "start_time": "2025-01-30T13:43:08.110643Z"
    }
   },
   "cell_type": "code",
   "source": [
    "print(np.nanmean(nanArray)) # np.nanmean fonksiyonu NaN değerleri yok sayarak ortalama alır. farklı varyasyonları mevcuttur.\n",
    "isNan = np.isnan(nanArray) # np.isnan fonksiyonu NaN değerleri kontrol eder.\n",
    "print(isNan)\n",
    "print(np.mean(nanArray[~isNan])) # ~ işareti ile NaN değerleri hariç tutar."
   ],
   "id": "de3549a1542f1d4",
   "outputs": [
    {
     "name": "stdout",
     "output_type": "stream",
     "text": [
      "3.0\n",
      "[False False  True False False]\n",
      "3.0\n"
     ]
    }
   ],
   "execution_count": 47
  },
  {
   "metadata": {},
   "cell_type": "markdown",
   "source": [
    "## Lineer Cebir\n",
    "Lineer cebir, matrisler ve vektörler üzerinde işlem yapmamızı sağlayan bir matematik dalıdır. Numpy, lineer cebir fonksiyonlarını destekler ve bu fonksiyonları kullanarak matrisler ve vektörler üzerinde işlem yapabiliriz.\n",
    "\n",
    "Matrisler ve vektörler, lineer cebirde temel yapı taşlarıdır. Matrisler, iki boyutlu dizilerdir ve vektörler, bir boyutlu dizilerdir. Matirsler $m x n$ şeklinde ifade edilir, burada m satır ve n sütun sayısını temsil eder. Eğer elimizde $m=n$ şeklinde bir matris varsa, bu matrise kare matris denir. Kare matrislerde, satır ve sütun sayısı eşittir. Numpy üzerinde oluşturduğumuz diziler 2 ve üstünde bir boyuta sahip olabilir.\n",
    "\n",
    "Bir matrisi aşağıdaki formülle tanımlayabiliriz:\n",
    "$$y = A * x$$\n",
    "$$A = \\begin{bmatrix} 1 & 2 & 3 \\\\ 4 & 5 & 6 \\\\ 7 & 8 & 9 \\end{bmatrix}$$\n",
    "\n",
    "$A$ $m * x$ şeklinde bir matris olup, $y$ ise $1 * n$ ve $x$ ise $1 * n$ şeklinde bir vektördür."
   ],
   "id": "953d69b00e4e1c73"
  },
  {
   "metadata": {},
   "cell_type": "markdown",
   "source": "## Matris Çarpımı\n",
   "id": "17a4ccdfede51518"
  },
  {
   "metadata": {
    "ExecuteTime": {
     "end_time": "2025-01-30T13:43:08.126691Z",
     "start_time": "2025-01-30T13:43:08.124643Z"
    }
   },
   "cell_type": "code",
   "source": [
    "A = np.array(\n",
    "    [\n",
    "        [1, 2, 3, 5, 8],\n",
    "        [4, 5, 6, 7, 9],\n",
    "        [7, 8, 9, 10, 11]\n",
    "    ]\n",
    ")\n",
    "B = np.array(\n",
    "    [\n",
    "        [1, 2, 3],\n",
    "        [4, 5, 6],\n",
    "        [7, 8, 9],\n",
    "        [10, 11, 12]\n",
    "    ]\n",
    ")"
   ],
   "id": "d5d1b326ee4feed4",
   "outputs": [],
   "execution_count": 48
  },
  {
   "metadata": {},
   "cell_type": "markdown",
   "source": [
    "Fark edildiği üzere $A$ve $B$ matrisleri birbirinden farklı boyutlara sahiptir. $A$ matrisi $3 * 5$ boyutunda iken, $B$ matrisi $4 * 3$ boyutundadır. Matris kurallarına göre bu iki matrisi çarpamayız. Çünkü, çarpmak için iki matrisin sütun sayısının birinci matrisin satır sayısına eşit olması gerekir. Bu durumda, $A$ matrisinin sütun sayısı 5 iken, $B$ matrisinin satır sayısı 3'tür. Bu iki sayı birbirine eşit olmadığı için bu iki matrisi çarpamayız. Başka bir deyişle elimizde $m * n$ ve $p * q$ şeklinde iki matris varsa, bu iki matrisi ilki ve ikincisi ile çarpmamız gerekir ve aşağıdakini elde ederiz: $$(m * n) . (p * q) = m * q$$\n",
    "\n",
    "Bu durumda, $A$ matrisini $B$ matrisi ile çarpmak için $A$ matrisini çarpımını np.dot fonksiyonu ile yapabiliriz."
   ],
   "id": "baa4e5ae4fe44fbd"
  },
  {
   "metadata": {
    "ExecuteTime": {
     "end_time": "2025-01-30T13:43:08.143318Z",
     "start_time": "2025-01-30T13:43:08.136473Z"
    }
   },
   "cell_type": "code",
   "source": "print(np.dot(A, B))",
   "id": "560ab699472713fd",
   "outputs": [
    {
     "ename": "ValueError",
     "evalue": "shapes (3,5) and (4,3) not aligned: 5 (dim 1) != 4 (dim 0)",
     "output_type": "error",
     "traceback": [
      "\u001B[0;31m---------------------------------------------------------------------------\u001B[0m",
      "\u001B[0;31mValueError\u001B[0m                                Traceback (most recent call last)",
      "Cell \u001B[0;32mIn[49], line 1\u001B[0m\n\u001B[0;32m----> 1\u001B[0m \u001B[38;5;28mprint\u001B[39m(\u001B[43mnp\u001B[49m\u001B[38;5;241;43m.\u001B[39;49m\u001B[43mdot\u001B[49m\u001B[43m(\u001B[49m\u001B[43mA\u001B[49m\u001B[43m,\u001B[49m\u001B[43m \u001B[49m\u001B[43mB\u001B[49m\u001B[43m)\u001B[49m)\n",
      "\u001B[0;31mValueError\u001B[0m: shapes (3,5) and (4,3) not aligned: 5 (dim 1) != 4 (dim 0)"
     ]
    }
   ],
   "execution_count": 49
  },
  {
   "metadata": {},
   "cell_type": "markdown",
   "source": [
    "Görüldüğü üzere $3 x 5$ boyutundaki matris ile $4 x 3$ matrisinin çarpımı bizlere hata verir fakat  $n=p$ olduğunda çarpım işlemi gerçekleşir. Yani birinin sırası diğerinin sütununa eşit olmalıdır.\n",
    "\n",
    "Buda matris çarpımındaki sıra önemli olduğunu gösterir. Yani $A * B$ ile $B * A$ çarpımı farklı sonuçlar verir. Aşağıda görüleceği üzere $4 x 3$ matrisi ile $3 x 5$ matrisinin çarpımı gerçekleşir."
   ],
   "id": "3fa24add8be75193"
  },
  {
   "metadata": {
    "ExecuteTime": {
     "end_time": "2025-01-30T13:43:08.144202Z",
     "start_time": "2025-01-30T13:18:34.887302Z"
    }
   },
   "cell_type": "code",
   "source": "print(np.dot(B, A))",
   "id": "b42649467daa1b37",
   "outputs": [
    {
     "name": "stdout",
     "output_type": "stream",
     "text": [
      "[[ 30  36  42  49  59]\n",
      " [ 66  81  96 115 143]\n",
      " [102 126 150 181 227]]\n"
     ]
    }
   ],
   "execution_count": 5
  },
  {
   "metadata": {},
   "cell_type": "markdown",
   "source": [
    "## Portfolyo Varyansı\n",
    "\n",
    "Portfolyonun beklenen getirisini hesaplamıştık. Şimdi, portfolyonun varyansını hesaplayalım. Portfolyonun varyansı, $$Var(P) = Var(w_1S_1 + w_2S_ + ... + w_NS_N)$$ şeklinde hesaplanır. Burada $S_0,...S_N$ varlıkları temsil eder. Eğer varlıklar birbirinden bağımsız olsaydı. $$Var(P) = Var(w_1S_1) + Var(w_2S_2) + ... + Var(w_NS_N) = w^2_1\\sigma^2_1 + w^2_2\\sigma^2_2 + ... + w^2_n\\sigma^2_n$$ şeklinde hesaplanırdı.\n",
    "\n",
    "Tabii ki varlıklar birbirine bağımlıdır. Bu sebeple bütün varlıklar bir noktada birbiri ile ilişkilidir. Böylelikle portfolyonun varyansını hesaplarken kovaryansları da hesaba katmamız gerekir. $$Var(P) = \\sigma^2_P = \\sum_{i=1} w^2_i\\sigma^2_i + \\sum_{i=1}^{N} \\sum_{j=1}^{N} w_iw_jp_i,j$$ şeklinde hesaplanır. Burada $p_i,j$ $S_i$ ve $S_j$ arasında ki korelasyondur. Korelasyon ise $\\frac{Cov(S_i, S_j)}{\\sigma_i\\sigma_j}$ iki varlığın korelasyonunu temsil eder. Buradan bakıldığında biraz kafa karıştırıcı dursada NumPy ile bu işlemi yapmak oldukça basittir.\n",
    "\n"
   ],
   "id": "41f7d4bd6c050aa"
  },
  {
   "metadata": {
    "ExecuteTime": {
     "end_time": "2025-01-30T13:43:08.148752Z",
     "start_time": "2025-01-30T13:42:30.263161Z"
    }
   },
   "cell_type": "code",
   "source": [
    "cov_mat = np.cov(returns) #korelasyon matrisi\n",
    "cov_mat"
   ],
   "id": "d0cb7ae70767425e",
   "outputs": [
    {
     "data": {
      "text/plain": [
       "array([[ 9.71571931e-06,  7.62279563e-06,  1.43742913e-05,\n",
       "         1.57259633e-05,  1.43708297e-05,  1.24378116e-05,\n",
       "         1.19186370e-05,  5.73476274e-06,  1.51657878e-05,\n",
       "         1.07528786e-05],\n",
       "       [ 7.62279563e-06,  4.82016965e-04,  6.66697247e-05,\n",
       "        -1.43635745e-06,  7.14880088e-05, -5.46930310e-05,\n",
       "         2.54251182e-05,  1.91379656e-05,  3.08465208e-05,\n",
       "         2.41587932e-05],\n",
       "       [ 1.43742913e-05,  6.66697247e-05,  5.17293460e-04,\n",
       "         1.00193683e-06, -6.71880789e-06, -9.81594215e-06,\n",
       "         3.22835586e-05, -1.90326109e-05,  3.08120474e-05,\n",
       "        -6.06215038e-05],\n",
       "       [ 1.57259633e-05, -1.43635745e-06,  1.00193683e-06,\n",
       "         4.44800100e-04,  1.72651853e-05, -7.31395564e-06,\n",
       "         8.17150397e-06, -2.03979925e-05, -1.05650720e-05,\n",
       "        -6.55530090e-05],\n",
       "       [ 1.43708297e-05,  7.14880088e-05, -6.71880789e-06,\n",
       "         1.72651853e-05,  4.22520982e-04, -3.38162027e-05,\n",
       "         1.78498814e-05,  6.93778056e-05,  3.48875832e-05,\n",
       "         2.84227404e-05],\n",
       "       [ 1.24378116e-05, -5.46930310e-05, -9.81594215e-06,\n",
       "        -7.31395564e-06, -3.38162027e-05,  5.43469872e-04,\n",
       "        -5.09351804e-05,  1.40853986e-05, -8.13956709e-05,\n",
       "         2.86949055e-05],\n",
       "       [ 1.19186370e-05,  2.54251182e-05,  3.22835586e-05,\n",
       "         8.17150397e-06,  1.78498814e-05, -5.09351804e-05,\n",
       "         4.08604123e-04,  2.35758189e-05,  6.29819311e-06,\n",
       "         2.91066719e-05],\n",
       "       [ 5.73476274e-06,  1.91379656e-05, -1.90326109e-05,\n",
       "        -2.03979925e-05,  6.93778056e-05,  1.40853986e-05,\n",
       "         2.35758189e-05,  6.15452356e-04, -6.59251045e-06,\n",
       "         3.07077320e-05],\n",
       "       [ 1.51657878e-05,  3.08465208e-05,  3.08120474e-05,\n",
       "        -1.05650720e-05,  3.48875832e-05, -8.13956709e-05,\n",
       "         6.29819311e-06, -6.59251045e-06,  3.59360781e-04,\n",
       "         2.73225845e-05],\n",
       "       [ 1.07528786e-05,  2.41587932e-05, -6.06215038e-05,\n",
       "        -6.55530090e-05,  2.84227404e-05,  2.86949055e-05,\n",
       "         2.91066719e-05,  3.07077320e-05,  2.73225845e-05,\n",
       "         3.99750347e-04]])"
      ]
     },
     "execution_count": 24,
     "metadata": {},
     "output_type": "execute_result"
    }
   ],
   "execution_count": 24
  },
  {
   "metadata": {
    "ExecuteTime": {
     "end_time": "2025-01-30T19:31:44.034505Z",
     "start_time": "2025-01-30T19:31:44.000206Z"
    }
   },
   "cell_type": "code",
   "source": "print(A)",
   "id": "97ecc60ffa7bc28d",
   "outputs": [
    {
     "name": "stdout",
     "output_type": "stream",
     "text": [
      "[[ 1  2  3  5  8]\n",
      " [ 4  5  6  7  9]\n",
      " [ 7  8  9 10 11]]\n"
     ]
    }
   ],
   "execution_count": 50
  },
  {
   "metadata": {
    "ExecuteTime": {
     "end_time": "2025-01-30T19:31:59.564432Z",
     "start_time": "2025-01-30T19:31:59.561376Z"
    }
   },
   "cell_type": "code",
   "source": "print(np.transpose(A))",
   "id": "91b95dad6218633e",
   "outputs": [
    {
     "name": "stdout",
     "output_type": "stream",
     "text": [
      "[[ 1  4  7]\n",
      " [ 2  5  8]\n",
      " [ 3  6  9]\n",
      " [ 5  7 10]\n",
      " [ 8  9 11]]\n"
     ]
    }
   ],
   "execution_count": 51
  },
  {
   "metadata": {
    "ExecuteTime": {
     "end_time": "2025-01-30T19:34:39.600677Z",
     "start_time": "2025-01-30T19:34:39.598362Z"
    }
   },
   "cell_type": "code",
   "source": [
    "var_p = np.dot(np.dot(weights, cov_mat), weights.T)\n",
    "vol_p = np.sqrt(var_p)\n",
    "print(vol_p)"
   ],
   "id": "c320118f9348917a",
   "outputs": [
    {
     "name": "stdout",
     "output_type": "stream",
     "text": [
      "0.007650077325405663\n"
     ]
    }
   ],
   "execution_count": 54
  },
  {
   "metadata": {},
   "cell_type": "code",
   "outputs": [],
   "execution_count": null,
   "source": "",
   "id": "bb53e86c7e93f52d"
  }
 ],
 "metadata": {
  "kernelspec": {
   "display_name": "Python 3",
   "language": "python",
   "name": "python3"
  },
  "language_info": {
   "codemirror_mode": {
    "name": "ipython",
    "version": 2
   },
   "file_extension": ".py",
   "mimetype": "text/x-python",
   "name": "python",
   "nbconvert_exporter": "python",
   "pygments_lexer": "ipython2",
   "version": "2.7.6"
  }
 },
 "nbformat": 4,
 "nbformat_minor": 5
}
